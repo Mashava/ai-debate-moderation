{
 "cells": [
  {
   "cell_type": "markdown",
   "metadata": {},
   "source": [
    "# AI in Debate Moderation"
   ]
  },
  {
   "cell_type": "markdown",
   "metadata": {},
   "source": [
    "Ok, this is a wild idea! We can both agree though that sometimes debate moderators don't get it right. Of course, they are human! They can't be 100% right. Maybe they are at 80%. Who knows? If the stakes are really high humans must get extremely close to 100% and they can achieve this with the aid of AI. "
   ]
  },
  {
   "cell_type": "markdown",
   "metadata": {},
   "source": [
    "## Contents\n",
    "- [The Use Case](#The-Use-Case)\n",
    "- [Success Criteria](#Success-Criteria)\n",
    "- [AI Solutions](#AI-Solutions)\n",
    "    - [Out-of-the-box AI](#Out-of-the-box-AI)\n",
    "    - [End-to-End AI](#End-to-End-AI)\n",
    "    - [AI with Feature Engineering](#AI-with-Feature-Engineering)\n",
    "    - [Transfer Learning](#Transfer-Learning)\n",
    "- [Thoughts](#Thoughts)"
   ]
  },
  {
   "cell_type": "markdown",
   "metadata": {},
   "source": [
    "## The Use Case"
   ]
  },
  {
   "cell_type": "markdown",
   "metadata": {},
   "source": [
    "A debate can be a high stakes event. Debate moderators must be impartial and be able to exert control when debaters go out-of-control. Impartiality can be achieved through making sure that the debators are allocated equal time. Controlling debaters who interrupt others can only be achieved through muting the violators. Leaving the task of managing the mute buttons can be too much for the moderator. Comes AI to the rescue!\n"
   ]
  },
  {
   "cell_type": "markdown",
   "metadata": {},
   "source": [
    "![agent](images/ai_agent.jpg)"
   ]
  },
  {
   "cell_type": "markdown",
   "metadata": {},
   "source": [
    "The audio feed of the debate moderator and the debate participants is passed through an AI Agent which decides the channel(s) to output. There are lots of technical details to iron out here but we will focus on how AI can achieve this."
   ]
  },
  {
   "cell_type": "markdown",
   "metadata": {},
   "source": [
    "## Success Criteria"
   ]
  },
  {
   "cell_type": "markdown",
   "metadata": {},
   "source": [
    "1. A metric **talk time** which measures cumulative duration of a debater speaking\n",
    "\n",
    "     a) Classify speaker based on audio input (Speaker Diarization) with a XX% accuracy\n",
    "     \n",
    "     b) Classify interruptions with a XX% accuracy\n",
    "     \n",
    "     \n",
    "2. An output lag of no more than X seconds (Edge Computing will help here but we will not discuss it)"
   ]
  },
  {
   "cell_type": "markdown",
   "metadata": {},
   "source": [
    "The dynamic control to manage equal allocation of time is left to the moderators and they can take advantage of the metric **talk time** to adjust accordingly. The AI agent can also achieve dynamic control via Reinforcement Learning."
   ]
  },
  {
   "cell_type": "markdown",
   "metadata": {},
   "source": [
    "## AI Solutions"
   ]
  },
  {
   "cell_type": "markdown",
   "metadata": {},
   "source": [
    "It all starts with the data which in this case are audio files and labeled. This enables us to build a model that can achieve speaker diarization. There are advanced models out there but we want to build one, a simple one."
   ]
  },
  {
   "cell_type": "markdown",
   "metadata": {},
   "source": [
    "![output](images/output.jpg)"
   ]
  },
  {
   "cell_type": "markdown",
   "metadata": {},
   "source": [
    "A quick look at the labels tell us this is going to be a multi-label classification. Example 43322 and 43323 show us that we can have multiple speakers in an audio file. We can assume some of these are interruptions.\n",
    "\n",
    "If we would have one speaker per audio file that would be multi-class classification. \n",
    "\n",
    "The difference between these two comes in the output layer of the model. Multi-label will have an output of the same size as the speakers and with the sigmoid activation function. Multi-class will have the softmax activation function. "
   ]
  },
  {
   "cell_type": "markdown",
   "metadata": {},
   "source": [
    "### Out-of-the-box AI"
   ]
  },
  {
   "cell_type": "markdown",
   "metadata": {},
   "source": [
    "This is the go to for general ML tasks, baselines or a quick prototype. I can quickly take advantage of [Google Cloud's Automatic Speech Recognition API](https://cloud.google.com/speech-to-text). There are numerous other solutions out there! \n",
    "\n",
    "I also consider AutoML here. You can get a model up and running in an hour! An example will be [Google Cloud's AutoML](https://cloud.google.com/automl).\n"
   ]
  },
  {
   "cell_type": "markdown",
   "metadata": {},
   "source": [
    "### End-to-End AI"
   ]
  },
  {
   "cell_type": "markdown",
   "metadata": {},
   "source": [
    "End-to-end AI is difficult to achieve especially when there is a lot of data and it's unstructured like video, image, audio or text. Computing resources like TPU, GPU and lots of RAM are required. You can always turn to cloud providers of your choice but before you even get there you will need to have a lot of data. Good data! There is not agreed magic number on the size of the training data set but end-to-end is data hungry. Start with several thousands."
   ]
  },
  {
   "cell_type": "markdown",
   "metadata": {},
   "source": [
    "![endtoend](images/endtoend.jpg)"
   ]
  },
  {
   "cell_type": "markdown",
   "metadata": {},
   "source": [
    "Expert knowledge of the domain and the input data required for feature engineering and once this done right, simpler and highly accurate models can be used. "
   ]
  },
  {
   "cell_type": "code",
   "execution_count": 1,
   "metadata": {},
   "outputs": [],
   "source": [
    "import IPython.display as ipd\n",
    "# % pylab inline\n",
    "\n",
    "import tensorflow as tf\n",
    "import tensorflow_hub as hub\n",
    "import tensorflow_addons as tfa\n",
    "\n",
    "import os\n",
    "import pathlib\n",
    "\n",
    "\n",
    "import pandas as pd\n",
    "import numpy as np\n",
    "import librosa\n",
    "import glob \n",
    "import librosa.display\n",
    "import random\n",
    "from datetime import datetime\n",
    "\n",
    "from sklearn.preprocessing import LabelEncoder\n",
    "from sklearn.preprocessing import StandardScaler\n",
    "from sklearn.model_selection import train_test_split, GridSearchCV\n",
    "from sklearn.preprocessing import MultiLabelBinarizer\n",
    "from sklearn.calibration import calibration_curve\n",
    "\n",
    "import seaborn as sns\n",
    "import matplotlib.pyplot as plt\n",
    "\n",
    "\n",
    "from tensorflow.keras.models import Sequential\n",
    "from tensorflow.keras.layers import Dense, Dropout,Activation, Flatten \n",
    "from tensorflow.keras.layers import Convolution2D, MaxPooling2D\n",
    "from tensorflow.keras.optimizers import Adam\n",
    "from tensorflow.keras import utils \n",
    "from tensorflow.keras.wrappers.scikit_learn import KerasRegressor\n",
    "from tensorflow.keras.callbacks import EarlyStopping\n",
    "from tensorflow.keras import regularizers\n",
    "\n",
    "from tensorflow.keras import layers\n",
    "from tensorflow.keras import models\n",
    "\n",
    "seed = 79\n",
    "tf.random.set_seed(seed)\n",
    "np.random.seed(seed)"
   ]
  },
  {
   "cell_type": "code",
   "execution_count": 2,
   "metadata": {},
   "outputs": [
    {
     "name": "stdout",
     "output_type": "stream",
     "text": [
      "TF Version:  2.8.0\n",
      "[PhysicalDevice(name='/physical_device:GPU:0', device_type='GPU')]\n"
     ]
    }
   ],
   "source": [
    "print(\"TF Version: \", tf.__version__)\n",
    "print(tf.config.list_physical_devices('GPU'))"
   ]
  },
  {
   "cell_type": "code",
   "execution_count": 3,
   "metadata": {},
   "outputs": [],
   "source": [
    "DATASET_PATH = 'data/debate'\n",
    "\n",
    "data_dir = pathlib.Path(DATASET_PATH)"
   ]
  },
  {
   "cell_type": "code",
   "execution_count": 4,
   "metadata": {},
   "outputs": [
    {
     "name": "stdout",
     "output_type": "stream",
     "text": [
      "Number of total examples: 5704\n",
      "Example file tensor: tf.Tensor(b'data\\\\debate\\\\2198.wav', shape=(), dtype=string)\n"
     ]
    }
   ],
   "source": [
    "filenames = tf.io.gfile.glob(str(data_dir) + '/*')\n",
    "filenames = tf.random.shuffle(filenames)\n",
    "num_samples = len(filenames)\n",
    "print('Number of total examples:', num_samples)\n",
    "\n",
    "print('Example file tensor:', filenames[0])"
   ]
  },
  {
   "cell_type": "code",
   "execution_count": 5,
   "metadata": {},
   "outputs": [
    {
     "name": "stdout",
     "output_type": "stream",
     "text": [
      "Training set size 4564\n",
      "Validation set size 570\n",
      "Test set size 570\n"
     ]
    }
   ],
   "source": [
    "train_files = filenames[:4564]\n",
    "val_files = filenames[4564: 4564 + 570]\n",
    "test_files = filenames[-570:]\n",
    "\n",
    "print('Training set size', len(train_files))\n",
    "print('Validation set size', len(val_files))\n",
    "print('Test set size', len(test_files))"
   ]
  },
  {
   "cell_type": "code",
   "execution_count": 6,
   "metadata": {},
   "outputs": [
    {
     "data": {
      "text/plain": [
       "TensorShape([48000, 2])"
      ]
     },
     "execution_count": 6,
     "metadata": {},
     "output_type": "execute_result"
    }
   ],
   "source": [
    "test_file = tf.io.read_file(DATASET_PATH+'/433.wav')\n",
    "test_audio, _ = tf.audio.decode_wav(contents=test_file)\n",
    "test_audio.shape"
   ]
  },
  {
   "cell_type": "code",
   "execution_count": 7,
   "metadata": {},
   "outputs": [],
   "source": [
    "def decode_audio(audio_binary):\n",
    "  # Decode WAV-encoded audio files to `float32` tensors, normalized\n",
    "  # to the [-1.0, 1.0] range. Return `float32` audio and a sample rate.\n",
    "  audio, _ = tf.audio.decode_wav(contents=audio_binary, desired_channels=1)\n",
    "  \n",
    "  return tf.squeeze(audio, axis=-1)\n"
   ]
  },
  {
   "cell_type": "code",
   "execution_count": 8,
   "metadata": {},
   "outputs": [],
   "source": [
    "labels = pd.read_csv('data/speaker.csv', dtype = {'File':'int32', 'Biden':'int32','Trump':'int32','Wallace':'int32'})\n"
   ]
  },
  {
   "cell_type": "code",
   "execution_count": 81,
   "metadata": {},
   "outputs": [
    {
     "data": {
      "text/html": [
       "<div>\n",
       "<style scoped>\n",
       "    .dataframe tbody tr th:only-of-type {\n",
       "        vertical-align: middle;\n",
       "    }\n",
       "\n",
       "    .dataframe tbody tr th {\n",
       "        vertical-align: top;\n",
       "    }\n",
       "\n",
       "    .dataframe thead th {\n",
       "        text-align: right;\n",
       "    }\n",
       "</style>\n",
       "<table border=\"1\" class=\"dataframe\">\n",
       "  <thead>\n",
       "    <tr style=\"text-align: right;\">\n",
       "      <th></th>\n",
       "      <th>File</th>\n",
       "      <th>Biden</th>\n",
       "      <th>Trump</th>\n",
       "      <th>Wallace</th>\n",
       "    </tr>\n",
       "  </thead>\n",
       "  <tbody>\n",
       "    <tr>\n",
       "      <th>0</th>\n",
       "      <td>1</td>\n",
       "      <td>0</td>\n",
       "      <td>0</td>\n",
       "      <td>1</td>\n",
       "    </tr>\n",
       "    <tr>\n",
       "      <th>1</th>\n",
       "      <td>2</td>\n",
       "      <td>0</td>\n",
       "      <td>0</td>\n",
       "      <td>1</td>\n",
       "    </tr>\n",
       "    <tr>\n",
       "      <th>2</th>\n",
       "      <td>3</td>\n",
       "      <td>0</td>\n",
       "      <td>0</td>\n",
       "      <td>1</td>\n",
       "    </tr>\n",
       "    <tr>\n",
       "      <th>3</th>\n",
       "      <td>4</td>\n",
       "      <td>0</td>\n",
       "      <td>0</td>\n",
       "      <td>1</td>\n",
       "    </tr>\n",
       "    <tr>\n",
       "      <th>4</th>\n",
       "      <td>5</td>\n",
       "      <td>0</td>\n",
       "      <td>0</td>\n",
       "      <td>1</td>\n",
       "    </tr>\n",
       "  </tbody>\n",
       "</table>\n",
       "</div>"
      ],
      "text/plain": [
       "   File  Biden  Trump  Wallace\n",
       "0     1      0      0        1\n",
       "1     2      0      0        1\n",
       "2     3      0      0        1\n",
       "3     4      0      0        1\n",
       "4     5      0      0        1"
      ]
     },
     "execution_count": 81,
     "metadata": {},
     "output_type": "execute_result"
    }
   ],
   "source": [
    "labels.head()"
   ]
  },
  {
   "cell_type": "code",
   "execution_count": 82,
   "metadata": {},
   "outputs": [],
   "source": [
    "labels = tf.convert_to_tensor(labels)"
   ]
  },
  {
   "cell_type": "code",
   "execution_count": 11,
   "metadata": {},
   "outputs": [
    {
     "data": {
      "text/plain": [
       "<tf.Tensor: shape=(3,), dtype=int32, numpy=array([0, 0, 1])>"
      ]
     },
     "execution_count": 11,
     "metadata": {},
     "output_type": "execute_result"
    }
   ],
   "source": [
    "labels[1,1:]"
   ]
  },
  {
   "cell_type": "code",
   "execution_count": 12,
   "metadata": {},
   "outputs": [],
   "source": [
    "def get_label(file_path):\n",
    "  key = tf.strings.split(input=file_path, sep=os.path.sep)[-1] \n",
    "  key = tf.strings.split(input=key, sep=\".\")[0]\n",
    "  key = tf.strings.to_number(key, tf.int32)\n",
    "  return labels[key-1,1:]"
   ]
  },
  {
   "cell_type": "code",
   "execution_count": 13,
   "metadata": {},
   "outputs": [],
   "source": [
    "def get_waveform_and_label(file_path):\n",
    "  label = get_label(file_path)\n",
    "  audio_binary = tf.io.read_file(file_path)\n",
    "  waveform = decode_audio(audio_binary)\n",
    "  \n",
    "  return waveform, label"
   ]
  },
  {
   "cell_type": "code",
   "execution_count": 14,
   "metadata": {},
   "outputs": [],
   "source": [
    "AUTOTUNE = tf.data.AUTOTUNE\n",
    "\n",
    "files_ds = tf.data.Dataset.from_tensor_slices(train_files)\n",
    "\n",
    "waveform_ds = files_ds.map(\n",
    "    map_func=get_waveform_and_label,\n",
    "    num_parallel_calls=AUTOTUNE)"
   ]
  },
  {
   "cell_type": "code",
   "execution_count": 15,
   "metadata": {},
   "outputs": [],
   "source": [
    "def get_spectrogram(waveform):\n",
    "  # Zero-padding for an audio waveform with less than 16,000 samples.\n",
    "  input_len = 48000\n",
    "  waveform = waveform[:input_len]\n",
    "  zero_padding = tf.zeros(\n",
    "      [48000] - tf.shape(waveform),\n",
    "      dtype=tf.float32)\n",
    "  # Cast the waveform tensors' dtype to float32.\n",
    "  waveform = tf.cast(waveform, dtype=tf.float32)\n",
    "  # Concatenate the waveform with `zero_padding`, which ensures all audio\n",
    "  # clips are of the same length.\n",
    "  equal_length = tf.concat([waveform, zero_padding], 0)\n",
    "  # Convert the waveform to a spectrogram via a STFT.\n",
    "  spectrogram = tf.signal.stft(\n",
    "      equal_length, frame_length=255, frame_step=128)\n",
    "  # Obtain the magnitude of the STFT.\n",
    "  spectrogram = tf.abs(spectrogram)\n",
    "  # Add a `channels` dimension, so that the spectrogram can be used\n",
    "  # as image-like input data with convolution layers (which expect\n",
    "  # shape (`batch_size`, `height`, `width`, `channels`).\n",
    "  spectrogram = spectrogram[..., tf.newaxis]\n",
    "  return spectrogram"
   ]
  },
  {
   "cell_type": "code",
   "execution_count": 16,
   "metadata": {},
   "outputs": [
    {
     "name": "stdout",
     "output_type": "stream",
     "text": [
      "tf.Tensor([1 0 0], shape=(3,), dtype=int32)\n",
      "(48000,)\n",
      "Label: tf.Tensor([1 0 0], shape=(3,), dtype=int32)\n",
      "Waveform shape: (48000,)\n",
      "Spectrogram shape: (374, 129, 1)\n",
      "Audio playback\n"
     ]
    },
    {
     "data": {
      "text/html": [
       "\n",
       "                <audio  controls=\"controls\" >\n",
       "                    <source src=\"data:audio/wav;base64,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\" type=\"audio/wav\" />\n",
       "                    Your browser does not support the audio element.\n",
       "                </audio>\n",
       "              "
      ],
      "text/plain": [
       "<IPython.lib.display.Audio object>"
      ]
     },
     "metadata": {},
     "output_type": "display_data"
    }
   ],
   "source": [
    "for waveform, label in waveform_ds.take(1):\n",
    "  label = label\n",
    "  print(label)\n",
    "  print(waveform.shape)\n",
    "  spectrogram = get_spectrogram(waveform)\n",
    "\n",
    "print('Label:', label)\n",
    "print('Waveform shape:', waveform.shape)\n",
    "print('Spectrogram shape:', spectrogram.shape)\n",
    "print('Audio playback')\n",
    "ipd.display(ipd.Audio(waveform, rate=16000))"
   ]
  },
  {
   "cell_type": "code",
   "execution_count": 17,
   "metadata": {},
   "outputs": [],
   "source": [
    "def get_spectrogram_and_label_id(audio, label):\n",
    "  spectrogram = get_spectrogram(audio)\n",
    "  \n",
    "  return spectrogram, label"
   ]
  },
  {
   "cell_type": "code",
   "execution_count": 18,
   "metadata": {},
   "outputs": [],
   "source": [
    "spectrogram_ds = waveform_ds.map(\n",
    "  map_func=get_spectrogram_and_label_id,\n",
    "  num_parallel_calls=AUTOTUNE)"
   ]
  },
  {
   "cell_type": "code",
   "execution_count": 19,
   "metadata": {},
   "outputs": [],
   "source": [
    "def preprocess_dataset(files):\n",
    "  files_ds = tf.data.Dataset.from_tensor_slices(files)\n",
    "  output_ds = files_ds.map(\n",
    "      map_func=get_waveform_and_label,\n",
    "      num_parallel_calls=AUTOTUNE)\n",
    "  output_ds = output_ds.map(\n",
    "      map_func=get_spectrogram_and_label_id,\n",
    "      num_parallel_calls=AUTOTUNE)\n",
    "  return output_ds"
   ]
  },
  {
   "cell_type": "code",
   "execution_count": 20,
   "metadata": {},
   "outputs": [],
   "source": [
    "train_ds = spectrogram_ds\n",
    "val_ds = preprocess_dataset(val_files)\n",
    "test_ds = preprocess_dataset(test_files)"
   ]
  },
  {
   "cell_type": "code",
   "execution_count": 21,
   "metadata": {},
   "outputs": [],
   "source": [
    "batch_size = 64\n",
    "train_ds = train_ds.batch(batch_size)\n",
    "val_ds = val_ds.batch(batch_size)"
   ]
  },
  {
   "cell_type": "code",
   "execution_count": 22,
   "metadata": {},
   "outputs": [],
   "source": [
    "train_ds = train_ds.cache().prefetch(AUTOTUNE)\n",
    "val_ds = val_ds.cache().prefetch(AUTOTUNE)"
   ]
  },
  {
   "cell_type": "code",
   "execution_count": 23,
   "metadata": {},
   "outputs": [
    {
     "name": "stdout",
     "output_type": "stream",
     "text": [
      "Input shape: (374, 129, 1)\n",
      "Model: \"sequential\"\n",
      "_________________________________________________________________\n",
      " Layer (type)                Output Shape              Param #   \n",
      "=================================================================\n",
      " resizing (Resizing)         (None, 32, 32, 1)         0         \n",
      "                                                                 \n",
      " normalization (Normalizatio  (None, 32, 32, 1)        3         \n",
      " n)                                                              \n",
      "                                                                 \n",
      " conv2d (Conv2D)             (None, 30, 30, 32)        320       \n",
      "                                                                 \n",
      " conv2d_1 (Conv2D)           (None, 28, 28, 64)        18496     \n",
      "                                                                 \n",
      " max_pooling2d (MaxPooling2D  (None, 14, 14, 64)       0         \n",
      " )                                                               \n",
      "                                                                 \n",
      " dropout (Dropout)           (None, 14, 14, 64)        0         \n",
      "                                                                 \n",
      " flatten (Flatten)           (None, 12544)             0         \n",
      "                                                                 \n",
      " dense (Dense)               (None, 128)               1605760   \n",
      "                                                                 \n",
      " dropout_1 (Dropout)         (None, 128)               0         \n",
      "                                                                 \n",
      " dense_1 (Dense)             (None, 3)                 387       \n",
      "                                                                 \n",
      "=================================================================\n",
      "Total params: 1,624,966\n",
      "Trainable params: 1,624,963\n",
      "Non-trainable params: 3\n",
      "_________________________________________________________________\n"
     ]
    }
   ],
   "source": [
    "for spectrogram, _ in spectrogram_ds.take(1):\n",
    "  input_shape = spectrogram.shape\n",
    "print('Input shape:', input_shape)\n",
    "num_labels = 3\n",
    "\n",
    "# Instantiate the `tf.keras.layers.Normalization` layer.\n",
    "norm_layer = layers.Normalization()\n",
    "# Fit the state of the layer to the spectrograms\n",
    "# with `Normalization.adapt`.\n",
    "norm_layer.adapt(data=spectrogram_ds.map(map_func=lambda spec, label: spec))\n",
    "\n",
    "model = models.Sequential([\n",
    "    layers.Input(shape=input_shape),\n",
    "    # Downsample the input.\n",
    "    layers.Resizing(32, 32),\n",
    "    # Normalize.\n",
    "    norm_layer,\n",
    "    layers.Conv2D(32, 3, activation='relu'),\n",
    "    layers.Conv2D(64, 3, activation='relu'),\n",
    "    layers.MaxPooling2D(),\n",
    "    layers.Dropout(0.25),\n",
    "    layers.Flatten(),\n",
    "    layers.Dense(128, activation='relu'),\n",
    "    tf.keras.\n",
    "    layers.Dense(num_labels, activation='sigmoid'),\n",
    "])\n",
    "\n",
    "model.summary()"
   ]
  },
  {
   "cell_type": "code",
   "execution_count": 24,
   "metadata": {},
   "outputs": [],
   "source": [
    "model.compile(\n",
    "    optimizer=tf.keras.optimizers.Adam(),\n",
    "    loss=tf.keras.losses.BinaryCrossentropy(),\n",
    "    metrics=['accuracy'],\n",
    ")"
   ]
  },
  {
   "cell_type": "code",
   "execution_count": 25,
   "metadata": {},
   "outputs": [
    {
     "name": "stdout",
     "output_type": "stream",
     "text": [
      "Epoch 1/10\n",
      "72/72 [==============================] - 8s 34ms/step - loss: 0.5685 - accuracy: 0.5791 - val_loss: 0.4378 - val_accuracy: 0.7246\n",
      "Epoch 2/10\n",
      "72/72 [==============================] - 0s 6ms/step - loss: 0.4333 - accuracy: 0.7386 - val_loss: 0.3662 - val_accuracy: 0.7754\n",
      "Epoch 3/10\n",
      "72/72 [==============================] - 0s 6ms/step - loss: 0.3649 - accuracy: 0.7914 - val_loss: 0.3359 - val_accuracy: 0.7930\n",
      "Epoch 4/10\n",
      "72/72 [==============================] - 0s 6ms/step - loss: 0.3305 - accuracy: 0.8160 - val_loss: 0.3091 - val_accuracy: 0.8000\n",
      "Epoch 5/10\n",
      "72/72 [==============================] - 0s 6ms/step - loss: 0.3033 - accuracy: 0.8311 - val_loss: 0.3044 - val_accuracy: 0.7982\n",
      "Epoch 6/10\n",
      "72/72 [==============================] - 0s 6ms/step - loss: 0.2922 - accuracy: 0.8309 - val_loss: 0.3088 - val_accuracy: 0.7930\n",
      "Epoch 7/10\n",
      "72/72 [==============================] - 0s 5ms/step - loss: 0.2764 - accuracy: 0.8365 - val_loss: 0.3056 - val_accuracy: 0.8035\n",
      "Epoch 7: early stopping\n"
     ]
    }
   ],
   "source": [
    "EPOCHS = 10\n",
    "history = model.fit(\n",
    "    train_ds,\n",
    "    validation_data=val_ds,\n",
    "    epochs=EPOCHS,\n",
    "    callbacks=tf.keras.callbacks.EarlyStopping(verbose=1, patience=2),\n",
    ")"
   ]
  },
  {
   "cell_type": "code",
   "execution_count": 26,
   "metadata": {},
   "outputs": [
    {
     "data": {
      "image/png": "[encoded data removed]",
      "text/plain": [
       "<Figure size 432x288 with 1 Axes>"
      ]
     },
     "metadata": {
      "needs_background": "light"
     },
     "output_type": "display_data"
    }
   ],
   "source": [
    "metrics = history.history\n",
    "plt.plot(history.epoch, metrics['loss'], metrics['val_loss'])\n",
    "plt.legend(['loss', 'val_loss'])\n",
    "plt.show()"
   ]
  },
  {
   "cell_type": "code",
   "execution_count": 27,
   "metadata": {},
   "outputs": [],
   "source": [
    "test_audio = []\n",
    "test_labels = []\n",
    "\n",
    "for audio, label in test_ds:\n",
    "  test_audio.append(audio.numpy())\n",
    "  test_labels.append(label.numpy())\n",
    "\n",
    "test_audio = np.array(test_audio)\n",
    "test_labels = np.array(test_labels)"
   ]
  },
  {
   "cell_type": "code",
   "execution_count": 28,
   "metadata": {},
   "outputs": [
    {
     "name": "stdout",
     "output_type": "stream",
     "text": [
      "Test set accuracy: 89%\n"
     ]
    }
   ],
   "source": [
    "THRESHOLD = 0.5\n",
    "\n",
    "y_pred = model.predict(test_audio)\n",
    "y_pred = y_pred  > THRESHOLD\n",
    "y_pred = y_pred.astype(int)\n",
    "y_pred_flat = y_pred.astype(int).flatten()\n",
    "\n",
    "y_true = test_labels\n",
    "y_true_flat = test_labels.flatten()\n",
    "\n",
    "test_acc = sum(y_pred_flat == y_true_flat) / len(y_true_flat)\n",
    "print(f'Test set accuracy: {test_acc:.0%}')"
   ]
  },
  {
   "cell_type": "code",
   "execution_count": 31,
   "metadata": {},
   "outputs": [
    {
     "data": {
      "text/plain": [
       "array([[0, 0, 1],\n",
       "       [1, 0, 0],\n",
       "       [0, 1, 0],\n",
       "       ...,\n",
       "       [0, 1, 1],\n",
       "       [0, 1, 0],\n",
       "       [0, 1, 0]])"
      ]
     },
     "execution_count": 31,
     "metadata": {},
     "output_type": "execute_result"
    }
   ],
   "source": [
    "y_true"
   ]
  },
  {
   "cell_type": "code",
   "execution_count": 32,
   "metadata": {},
   "outputs": [
    {
     "data": {
      "text/plain": [
       "array([[0, 0, 1],\n",
       "       [1, 0, 0],\n",
       "       [0, 1, 0],\n",
       "       ...,\n",
       "       [0, 1, 1],\n",
       "       [1, 0, 1],\n",
       "       [1, 1, 0]])"
      ]
     },
     "execution_count": 32,
     "metadata": {},
     "output_type": "execute_result"
    }
   ],
   "source": [
    "y_pred"
   ]
  },
  {
   "cell_type": "code",
   "execution_count": 33,
   "metadata": {},
   "outputs": [
    {
     "data": {
      "text/plain": [
       "array([[[300.,  26.],\n",
       "        [ 51., 193.]],\n",
       "\n",
       "       [[301.,  21.],\n",
       "        [ 26., 222.]],\n",
       "\n",
       "       [[339.,  38.],\n",
       "        [ 30., 163.]]], dtype=float32)"
      ]
     },
     "execution_count": 33,
     "metadata": {},
     "output_type": "execute_result"
    }
   ],
   "source": [
    "metric = tfa.metrics.MultiLabelConfusionMatrix(num_classes=3)\n",
    "metric.update_state(y_true, y_pred)\n",
    "result = metric.result()\n",
    "result.numpy()"
   ]
  },
  {
   "cell_type": "code",
   "execution_count": 34,
   "metadata": {},
   "outputs": [
    {
     "data": {
      "image/png": "[encoded data removed]",
      "text/plain": [
       "<Figure size 720x576 with 2 Axes>"
      ]
     },
     "metadata": {
      "needs_background": "light"
     },
     "output_type": "display_data"
    }
   ],
   "source": [
    "confusion_mtx = result[0]\n",
    "plt.figure(figsize=(10, 8))\n",
    "sns.heatmap(confusion_mtx,\n",
    "            xticklabels=[\"Biden\",\"Not Biden\"],\n",
    "            yticklabels=[\"Biden\",\"Not Biden\"],\n",
    "            annot=True, fmt='g')\n",
    "plt.xlabel('Prediction')\n",
    "plt.ylabel('Label')\n",
    "plt.show()"
   ]
  },
  {
   "cell_type": "code",
   "execution_count": 35,
   "metadata": {},
   "outputs": [
    {
     "data": {
      "image/png": "[encoded data removed]",
      "text/plain": [
       "<Figure size 720x576 with 2 Axes>"
      ]
     },
     "metadata": {
      "needs_background": "light"
     },
     "output_type": "display_data"
    }
   ],
   "source": [
    "confusion_mtx = result[1]\n",
    "plt.figure(figsize=(10, 8))\n",
    "sns.heatmap(confusion_mtx,\n",
    "            xticklabels=[\"Trump\",\"Not Trump\"],\n",
    "            yticklabels=[\"Trump\",\"Not Trump\"],\n",
    "            annot=True, fmt='g')\n",
    "plt.xlabel('Prediction')\n",
    "plt.ylabel('Label')\n",
    "plt.show()"
   ]
  },
  {
   "cell_type": "code",
   "execution_count": 36,
   "metadata": {},
   "outputs": [
    {
     "data": {
      "image/png": "[encoded data removed]",
      "text/plain": [
       "<Figure size 720x576 with 2 Axes>"
      ]
     },
     "metadata": {
      "needs_background": "light"
     },
     "output_type": "display_data"
    }
   ],
   "source": [
    "confusion_mtx = result[2]\n",
    "plt.figure(figsize=(10, 8))\n",
    "sns.heatmap(confusion_mtx,\n",
    "            xticklabels=[\"Wallace\",\"Not Wallace\"],\n",
    "            yticklabels=[\"Wallace\",\"Not Wallace\"],\n",
    "            annot=True, fmt='g')\n",
    "plt.xlabel('Prediction')\n",
    "plt.ylabel('Label')\n",
    "plt.show()"
   ]
  },
  {
   "cell_type": "code",
   "execution_count": null,
   "metadata": {},
   "outputs": [],
   "source": []
  },
  {
   "cell_type": "markdown",
   "metadata": {},
   "source": [
    "### AI with Feature Engineering"
   ]
  },
  {
   "cell_type": "markdown",
   "metadata": {},
   "source": [
    "Features engineering falls on a spectrum. It can be as easy as playing with a datetime feature to as complicated as audio signal processing. CNN can do this as part of model for end-to-end AI. In this example we will see audio feature engineering."
   ]
  },
  {
   "cell_type": "code",
   "execution_count": null,
   "metadata": {},
   "outputs": [],
   "source": [
    "# Fit the multi-label binarizer on the training set\n",
    "# print(\"Labels:\")\n",
    "# mlb = MultiLabelBinarizer()\n",
    "# mlb.fit(y_train)\n",
    "# transform the targets of the training and test sets\n",
    "# y_train_bin = mlb.transform(y_train)\n",
    "# y_val_bin = mlb.transform(y_val)\n",
    "# Loop over all labels and show them\n"
   ]
  },
  {
   "cell_type": "code",
   "execution_count": 49,
   "metadata": {},
   "outputs": [],
   "source": [
    "def extract_features(files):\n",
    "    \n",
    "    # Sets the name to be the path to where the file is in my computer\n",
    "    file_name = os.path.join(os.path.abspath('data/debate')+'/'+str(files.audio_file))\n",
    "\n",
    "    # Loads the audio file as a floating point time series and assigns the default sample rate\n",
    "    # Sample rate is set to 22050 by default\n",
    "    X, sample_rate = librosa.load(file_name, res_type='kaiser_fast') \n",
    "\n",
    "    # Generate Mel-frequency cepstral coefficients (MFCCs) from a time series \n",
    "    mfccs = np.mean(librosa.feature.mfcc(y=X, sr=sample_rate, n_mfcc=40).T,axis=0)\n",
    "\n",
    "    # Generates a Short-time Fourier transform (STFT) to use in the chroma_stft\n",
    "    stft = np.abs(librosa.stft(X))\n",
    "\n",
    "    # Computes a chromagram from a waveform or power spectrogram.\n",
    "    chroma = np.mean(librosa.feature.chroma_stft(S=stft, sr=sample_rate).T,axis=0)\n",
    "\n",
    "    # Computes a mel-scaled spectrogram.\n",
    "    mel = np.mean(librosa.feature.melspectrogram(X, sr=sample_rate).T,axis=0)\n",
    "\n",
    "    # Computes spectral contrast\n",
    "    contrast = np.mean(librosa.feature.spectral_contrast(S=stft, sr=sample_rate).T,axis=0)\n",
    "\n",
    "    # Computes the tonal centroid features (tonnetz)\n",
    "    tonnetz = np.mean(librosa.feature.tonnetz(y=librosa.effects.harmonic(X),\n",
    "    sr=sample_rate).T,axis=0)\n",
    "        \n",
    "    \n",
    "    # We add also the classes of each file as a label at the end\n",
    "    # label = files.lable\n",
    "\n",
    "    return mfccs, chroma, mel, contrast, tonnetz"
   ]
  },
  {
   "cell_type": "code",
   "execution_count": 43,
   "metadata": {},
   "outputs": [
    {
     "data": {
      "text/html": [
       "<div>\n",
       "<style scoped>\n",
       "    .dataframe tbody tr th:only-of-type {\n",
       "        vertical-align: middle;\n",
       "    }\n",
       "\n",
       "    .dataframe tbody tr th {\n",
       "        vertical-align: top;\n",
       "    }\n",
       "\n",
       "    .dataframe thead th {\n",
       "        text-align: right;\n",
       "    }\n",
       "</style>\n",
       "<table border=\"1\" class=\"dataframe\">\n",
       "  <thead>\n",
       "    <tr style=\"text-align: right;\">\n",
       "      <th></th>\n",
       "      <th>audio_file</th>\n",
       "      <th>file</th>\n",
       "    </tr>\n",
       "  </thead>\n",
       "  <tbody>\n",
       "    <tr>\n",
       "      <th>0</th>\n",
       "      <td>1.wav</td>\n",
       "      <td>1</td>\n",
       "    </tr>\n",
       "    <tr>\n",
       "      <th>1</th>\n",
       "      <td>10.wav</td>\n",
       "      <td>10</td>\n",
       "    </tr>\n",
       "    <tr>\n",
       "      <th>2</th>\n",
       "      <td>100.wav</td>\n",
       "      <td>100</td>\n",
       "    </tr>\n",
       "    <tr>\n",
       "      <th>3</th>\n",
       "      <td>1000.wav</td>\n",
       "      <td>1000</td>\n",
       "    </tr>\n",
       "    <tr>\n",
       "      <th>4</th>\n",
       "      <td>1001.wav</td>\n",
       "      <td>1001</td>\n",
       "    </tr>\n",
       "  </tbody>\n",
       "</table>\n",
       "</div>"
      ],
      "text/plain": [
       "  audio_file  file\n",
       "0      1.wav     1\n",
       "1     10.wav    10\n",
       "2    100.wav   100\n",
       "3   1000.wav  1000\n",
       "4   1001.wav  1001"
      ]
     },
     "execution_count": 43,
     "metadata": {},
     "output_type": "execute_result"
    }
   ],
   "source": [
    "voices = os.listdir('data/debate') \n",
    "voices = pd.DataFrame(voices, columns=['audio_file'])\n",
    "voices['file'] = voices['audio_file'].str[:-4].astype('int64')\n",
    "voices.head()"
   ]
  },
  {
   "cell_type": "code",
   "execution_count": 44,
   "metadata": {},
   "outputs": [],
   "source": [
    "labels = pd.read_csv('data/speaker.csv', dtype = {'File':'int32', 'Biden':'int32','Trump':'int32','Wallace':'int32'})\n"
   ]
  },
  {
   "cell_type": "code",
   "execution_count": 45,
   "metadata": {},
   "outputs": [],
   "source": [
    "labeled_voices = pd.merge(voices, labels, how='inner', left_on='file',right_on='File')"
   ]
  },
  {
   "cell_type": "code",
   "execution_count": 46,
   "metadata": {},
   "outputs": [
    {
     "data": {
      "text/html": [
       "<div>\n",
       "<style scoped>\n",
       "    .dataframe tbody tr th:only-of-type {\n",
       "        vertical-align: middle;\n",
       "    }\n",
       "\n",
       "    .dataframe tbody tr th {\n",
       "        vertical-align: top;\n",
       "    }\n",
       "\n",
       "    .dataframe thead th {\n",
       "        text-align: right;\n",
       "    }\n",
       "</style>\n",
       "<table border=\"1\" class=\"dataframe\">\n",
       "  <thead>\n",
       "    <tr style=\"text-align: right;\">\n",
       "      <th></th>\n",
       "      <th>audio_file</th>\n",
       "      <th>file</th>\n",
       "      <th>File</th>\n",
       "      <th>Biden</th>\n",
       "      <th>Trump</th>\n",
       "      <th>Wallace</th>\n",
       "    </tr>\n",
       "  </thead>\n",
       "  <tbody>\n",
       "    <tr>\n",
       "      <th>0</th>\n",
       "      <td>1.wav</td>\n",
       "      <td>1</td>\n",
       "      <td>1</td>\n",
       "      <td>0</td>\n",
       "      <td>0</td>\n",
       "      <td>1</td>\n",
       "    </tr>\n",
       "    <tr>\n",
       "      <th>1</th>\n",
       "      <td>10.wav</td>\n",
       "      <td>10</td>\n",
       "      <td>10</td>\n",
       "      <td>0</td>\n",
       "      <td>0</td>\n",
       "      <td>1</td>\n",
       "    </tr>\n",
       "    <tr>\n",
       "      <th>2</th>\n",
       "      <td>100.wav</td>\n",
       "      <td>100</td>\n",
       "      <td>100</td>\n",
       "      <td>0</td>\n",
       "      <td>0</td>\n",
       "      <td>0</td>\n",
       "    </tr>\n",
       "    <tr>\n",
       "      <th>3</th>\n",
       "      <td>1000.wav</td>\n",
       "      <td>1000</td>\n",
       "      <td>1000</td>\n",
       "      <td>1</td>\n",
       "      <td>0</td>\n",
       "      <td>0</td>\n",
       "    </tr>\n",
       "    <tr>\n",
       "      <th>4</th>\n",
       "      <td>1001.wav</td>\n",
       "      <td>1001</td>\n",
       "      <td>1001</td>\n",
       "      <td>1</td>\n",
       "      <td>0</td>\n",
       "      <td>0</td>\n",
       "    </tr>\n",
       "    <tr>\n",
       "      <th>...</th>\n",
       "      <td>...</td>\n",
       "      <td>...</td>\n",
       "      <td>...</td>\n",
       "      <td>...</td>\n",
       "      <td>...</td>\n",
       "      <td>...</td>\n",
       "    </tr>\n",
       "    <tr>\n",
       "      <th>5699</th>\n",
       "      <td>995.wav</td>\n",
       "      <td>995</td>\n",
       "      <td>995</td>\n",
       "      <td>1</td>\n",
       "      <td>0</td>\n",
       "      <td>1</td>\n",
       "    </tr>\n",
       "    <tr>\n",
       "      <th>5700</th>\n",
       "      <td>996.wav</td>\n",
       "      <td>996</td>\n",
       "      <td>996</td>\n",
       "      <td>1</td>\n",
       "      <td>0</td>\n",
       "      <td>1</td>\n",
       "    </tr>\n",
       "    <tr>\n",
       "      <th>5701</th>\n",
       "      <td>997.wav</td>\n",
       "      <td>997</td>\n",
       "      <td>997</td>\n",
       "      <td>1</td>\n",
       "      <td>0</td>\n",
       "      <td>0</td>\n",
       "    </tr>\n",
       "    <tr>\n",
       "      <th>5702</th>\n",
       "      <td>998.wav</td>\n",
       "      <td>998</td>\n",
       "      <td>998</td>\n",
       "      <td>1</td>\n",
       "      <td>0</td>\n",
       "      <td>0</td>\n",
       "    </tr>\n",
       "    <tr>\n",
       "      <th>5703</th>\n",
       "      <td>999.wav</td>\n",
       "      <td>999</td>\n",
       "      <td>999</td>\n",
       "      <td>1</td>\n",
       "      <td>0</td>\n",
       "      <td>0</td>\n",
       "    </tr>\n",
       "  </tbody>\n",
       "</table>\n",
       "<p>5704 rows × 6 columns</p>\n",
       "</div>"
      ],
      "text/plain": [
       "     audio_file  file  File  Biden  Trump  Wallace\n",
       "0         1.wav     1     1      0      0        1\n",
       "1        10.wav    10    10      0      0        1\n",
       "2       100.wav   100   100      0      0        0\n",
       "3      1000.wav  1000  1000      1      0        0\n",
       "4      1001.wav  1001  1001      1      0        0\n",
       "...         ...   ...   ...    ...    ...      ...\n",
       "5699    995.wav   995   995      1      0        1\n",
       "5700    996.wav   996   996      1      0        1\n",
       "5701    997.wav   997   997      1      0        0\n",
       "5702    998.wav   998   998      1      0        0\n",
       "5703    999.wav   999   999      1      0        0\n",
       "\n",
       "[5704 rows x 6 columns]"
      ]
     },
     "execution_count": 46,
     "metadata": {},
     "output_type": "execute_result"
    }
   ],
   "source": [
    "labeled_voices"
   ]
  },
  {
   "cell_type": "code",
   "execution_count": 131,
   "metadata": {},
   "outputs": [],
   "source": [
    "startTime = datetime.now()\n",
    "features_label = labeled_voices.apply(extract_features, axis=1)\n",
    "print(datetime.now() - startTime)"
   ]
  },
  {
   "cell_type": "code",
   "execution_count": 51,
   "metadata": {},
   "outputs": [
    {
     "data": {
      "text/plain": [
       "0       ([-316.14893, 142.19208, -28.876055, 26.372023...\n",
       "1       ([-268.13617, 120.899826, -31.390236, 25.11015...\n",
       "2       ([-188.92662, 48.207226, -86.547516, -22.70199...\n",
       "3       ([-373.39462, 52.491207, -10.77176, 63.02623, ...\n",
       "4       ([-364.55457, 73.53598, -21.008894, 41.02669, ...\n",
       "                              ...                        \n",
       "5699    ([-341.50073, 131.39627, -37.78101, 17.855215,...\n",
       "5700    ([-294.81802, 102.98069, -20.5588, 20.25569, -...\n",
       "5701    ([-320.38504, 115.801956, -21.924505, 24.16668...\n",
       "5702    ([-297.01648, 61.988964, -19.845503, 66.33844,...\n",
       "5703    ([-326.5932, 97.70723, -8.621423, 42.55274, 17...\n",
       "Length: 5704, dtype: object"
      ]
     },
     "execution_count": 51,
     "metadata": {},
     "output_type": "execute_result"
    }
   ],
   "source": [
    "features_label"
   ]
  },
  {
   "cell_type": "code",
   "execution_count": 52,
   "metadata": {},
   "outputs": [],
   "source": [
    "features = []\n",
    "for i in range(0, len(features_label)):\n",
    "    features.append(np.concatenate((features_label[i][0], features_label[i][1], \n",
    "                features_label[i][2], features_label[i][3],\n",
    "                features_label[i][4]), axis=0))"
   ]
  },
  {
   "cell_type": "code",
   "execution_count": 53,
   "metadata": {},
   "outputs": [
    {
     "data": {
      "text/plain": [
       "array([-3.16148926e+02,  1.42192078e+02, -2.88760548e+01,  2.63720226e+01,\n",
       "       -3.74285483e+00, -1.55572453e+01, -3.58161583e+01, -4.83183050e+00,\n",
       "       -2.20243492e+01,  8.05978298e+00, -1.95616837e+01, -5.43646955e+00,\n",
       "       -1.36732111e+01, -4.21579313e+00, -3.50703835e+00, -3.80577111e+00,\n",
       "       -1.35622292e+01, -3.11483860e+00, -2.92427731e+00, -9.62712765e+00,\n",
       "       -1.17938261e+01, -3.82251453e+00, -9.28313446e+00, -4.32293081e+00,\n",
       "       -5.32484818e+00, -8.78487396e+00, -1.75729740e+00, -7.45111799e+00,\n",
       "       -9.77463126e-01,  8.39363411e-02, -4.05375338e+00,  8.69719088e-01,\n",
       "       -3.79887915e+00, -6.49424744e+00, -4.63895655e+00, -1.88436711e+00,\n",
       "       -3.37211752e+00, -4.37069446e-01,  4.05609369e+00,  6.48762941e+00,\n",
       "        5.76570094e-01,  4.63275999e-01,  4.84776378e-01,  5.66238463e-01,\n",
       "        6.33214235e-01,  6.94447696e-01,  5.90347767e-01,  5.81185818e-01,\n",
       "        5.96771300e-01,  6.48633659e-01,  6.72818661e-01,  6.26591921e-01,\n",
       "        6.89517008e-04,  1.01582834e-03,  4.83408384e-03,  2.09546126e-02,\n",
       "        2.31326684e-01,  2.02206898e+00,  1.97291529e+00,  4.63741779e-01,\n",
       "        4.29395407e-01,  2.13924929e-01,  3.66207331e-01,  8.37537587e-01,\n",
       "        2.00942135e+00,  1.93089473e+00,  1.93509471e+00,  2.42814279e+00,\n",
       "        2.43309927e+00,  5.00592184e+00,  3.36865830e+00,  2.32949567e+00,\n",
       "        1.09778237e+00,  2.39543244e-01,  3.06908250e-01,  2.79265910e-01,\n",
       "        2.50021905e-01,  5.12107730e-01,  6.72001064e-01,  2.47442186e-01,\n",
       "        1.73077762e-01,  1.18041895e-01,  1.16763905e-01,  9.43106413e-02,\n",
       "        1.44567147e-01,  9.25362408e-02,  3.64898853e-02,  2.52037756e-02,\n",
       "        3.49472500e-02,  1.76747870e-02,  2.70644259e-02,  5.12432903e-02,\n",
       "        1.54063143e-02,  7.60803930e-03,  8.92147236e-03,  9.02515184e-03,\n",
       "        1.75735280e-02,  1.40380468e-02,  5.78192808e-03,  4.92988015e-03,\n",
       "        5.10748569e-03,  1.40267173e-02,  1.68160666e-02,  1.76673960e-02,\n",
       "        1.43750794e-02,  1.98060106e-02,  6.73503578e-02,  1.09844632e-01,\n",
       "        1.06198579e-01,  7.29590133e-02,  1.20013423e-01,  9.82440710e-02,\n",
       "        4.71760146e-02,  3.76504771e-02,  2.74472311e-02,  1.34329889e-02,\n",
       "        1.20072421e-02,  5.20231277e-02,  1.72669485e-01,  2.52210442e-02,\n",
       "        2.22670361e-02,  2.24198047e-02,  2.94935890e-02,  3.75096239e-02,\n",
       "        4.25519831e-02,  5.76859228e-02,  2.91807279e-02,  1.03605567e-02,\n",
       "        6.02378836e-03,  4.88132890e-03,  3.91146913e-03,  7.02725165e-03,\n",
       "        6.30769553e-03,  7.27246143e-03,  9.06673167e-03,  9.53306165e-03,\n",
       "        1.25254728e-02,  1.45409312e-02,  1.23024937e-02,  9.05022863e-03,\n",
       "        9.91257187e-03,  8.69491789e-03,  1.43560721e-03,  9.73909104e-04,\n",
       "        3.90833040e-04,  1.34829621e-04,  1.27797495e-04,  1.73766151e-04,\n",
       "        1.83516691e-04,  2.88463867e-04,  4.15683375e-04,  3.00409883e-04,\n",
       "        6.16081059e-04,  6.63896964e-04,  1.85453275e-04,  2.45362578e-04,\n",
       "        6.53422321e-04,  7.99386005e-04,  6.68856548e-04,  6.82570273e-04,\n",
       "        7.19933014e-04,  9.12688614e-04,  8.42496403e-04,  3.27971793e-04,\n",
       "        2.36285283e-04,  1.53605317e-04,  1.85324752e-04,  1.98154434e-04,\n",
       "        1.39315438e-04,  1.32426154e-04,  9.40010432e-05,  5.26382137e-05,\n",
       "        4.15266368e-05,  2.08504953e-05,  2.15095279e-05,  7.11054736e-06,\n",
       "        1.56477870e-06,  5.18072795e-07,  1.23629874e-07,  2.72876193e-08,\n",
       "        2.38579891e+01,  1.45421877e+01,  1.86436582e+01,  1.76798916e+01,\n",
       "        1.87189228e+01,  2.12447535e+01,  3.39042130e+01, -3.20133920e-02,\n",
       "        6.80479499e-02, -8.41625013e-02,  1.76727145e-02, -2.92390660e-02,\n",
       "       -2.35535676e-02])"
      ]
     },
     "execution_count": 53,
     "metadata": {},
     "output_type": "execute_result"
    }
   ],
   "source": [
    "features[0]"
   ]
  },
  {
   "cell_type": "code",
   "execution_count": 54,
   "metadata": {},
   "outputs": [],
   "source": [
    "X = np.array(features)"
   ]
  },
  {
   "cell_type": "code",
   "execution_count": 55,
   "metadata": {},
   "outputs": [],
   "source": [
    "y = labeled_voices[['Biden','Trump','Wallace']].values"
   ]
  },
  {
   "cell_type": "code",
   "execution_count": 56,
   "metadata": {},
   "outputs": [
    {
     "data": {
      "text/plain": [
       "array([[0, 0, 1],\n",
       "       [0, 0, 1],\n",
       "       [0, 0, 0],\n",
       "       ...,\n",
       "       [1, 0, 0],\n",
       "       [1, 0, 0],\n",
       "       [1, 0, 0]])"
      ]
     },
     "execution_count": 56,
     "metadata": {},
     "output_type": "execute_result"
    }
   ],
   "source": [
    "#labeled_voices.head()\n",
    "y"
   ]
  },
  {
   "cell_type": "code",
   "execution_count": 57,
   "metadata": {},
   "outputs": [],
   "source": [
    "scalar = StandardScaler()"
   ]
  },
  {
   "cell_type": "code",
   "execution_count": 58,
   "metadata": {},
   "outputs": [],
   "source": [
    "X_train, X_test, y_train, y_test = train_test_split(X, y, test_size=0.1, random_state=1)\n",
    "\n",
    "X_train, X_val, y_train, y_val = train_test_split(X_train, y_train, test_size=0.22, random_state=1) "
   ]
  },
  {
   "cell_type": "code",
   "execution_count": 59,
   "metadata": {},
   "outputs": [],
   "source": [
    "X_train = scalar.fit_transform(X_train)\n",
    "X_val = scalar.transform(X_val)\n",
    "X_test = scalar.transform(X_test)"
   ]
  },
  {
   "cell_type": "code",
   "execution_count": 63,
   "metadata": {},
   "outputs": [],
   "source": [
    "model = Sequential()\n",
    "\n",
    "model.add(Dense(193, input_shape=(193,), activation = 'relu'))\n",
    "model.add(Dropout(0.1))\n",
    "\n",
    "model.add(Dense(32, activation = 'relu'))\n",
    "model.add(Dropout(0.25))  \n",
    "\n",
    "model.add(Dense(8, activation = 'relu'))\n",
    "model.add(Dropout(0.25))    \n",
    "\n",
    "model.add(Dense(3, activation = 'sigmoid'))\n",
    "\n",
    "model.compile(loss='binary_crossentropy', metrics=['accuracy'], optimizer='adam')\n",
    "\n",
    "early_stop = EarlyStopping(monitor='val_loss', min_delta=0, patience=100, verbose=1, mode='auto')"
   ]
  },
  {
   "cell_type": "code",
   "execution_count": 64,
   "metadata": {},
   "outputs": [
    {
     "name": "stdout",
     "output_type": "stream",
     "text": [
      "Epoch 1/18\n",
      "63/63 [==============================] - 1s 8ms/step - loss: 0.5600 - accuracy: 0.6030 - val_loss: 0.3783 - val_accuracy: 0.8000\n",
      "Epoch 2/18\n",
      "63/63 [==============================] - 0s 7ms/step - loss: 0.4080 - accuracy: 0.7747 - val_loss: 0.2961 - val_accuracy: 0.8283\n",
      "Epoch 3/18\n",
      "63/63 [==============================] - 0s 7ms/step - loss: 0.3520 - accuracy: 0.8044 - val_loss: 0.2758 - val_accuracy: 0.8398\n",
      "Epoch 4/18\n",
      "63/63 [==============================] - 0s 7ms/step - loss: 0.3177 - accuracy: 0.8246 - val_loss: 0.2682 - val_accuracy: 0.8372\n",
      "Epoch 5/18\n",
      "63/63 [==============================] - 0s 7ms/step - loss: 0.3052 - accuracy: 0.8239 - val_loss: 0.2628 - val_accuracy: 0.8442\n",
      "Epoch 6/18\n",
      "63/63 [==============================] - 0s 7ms/step - loss: 0.2882 - accuracy: 0.8334 - val_loss: 0.2536 - val_accuracy: 0.8345\n",
      "Epoch 7/18\n",
      "63/63 [==============================] - 0s 6ms/step - loss: 0.2755 - accuracy: 0.8276 - val_loss: 0.2489 - val_accuracy: 0.8451\n",
      "Epoch 8/18\n",
      "63/63 [==============================] - 0s 6ms/step - loss: 0.2690 - accuracy: 0.8326 - val_loss: 0.2511 - val_accuracy: 0.8389\n",
      "Epoch 9/18\n",
      "63/63 [==============================] - 0s 6ms/step - loss: 0.2653 - accuracy: 0.8269 - val_loss: 0.2567 - val_accuracy: 0.8522\n",
      "Epoch 10/18\n",
      "63/63 [==============================] - 0s 6ms/step - loss: 0.2469 - accuracy: 0.8356 - val_loss: 0.2461 - val_accuracy: 0.8478\n",
      "Epoch 11/18\n",
      "63/63 [==============================] - 0s 6ms/step - loss: 0.2478 - accuracy: 0.8334 - val_loss: 0.2484 - val_accuracy: 0.8434\n",
      "Epoch 12/18\n",
      "63/63 [==============================] - 0s 7ms/step - loss: 0.2391 - accuracy: 0.8436 - val_loss: 0.2460 - val_accuracy: 0.8522\n",
      "Epoch 13/18\n",
      "63/63 [==============================] - 0s 6ms/step - loss: 0.2284 - accuracy: 0.8474 - val_loss: 0.2495 - val_accuracy: 0.8451\n",
      "Epoch 14/18\n",
      "63/63 [==============================] - 0s 6ms/step - loss: 0.2285 - accuracy: 0.8431 - val_loss: 0.2509 - val_accuracy: 0.8504\n",
      "Epoch 15/18\n",
      "63/63 [==============================] - 0s 6ms/step - loss: 0.2211 - accuracy: 0.8456 - val_loss: 0.2488 - val_accuracy: 0.8478\n",
      "Epoch 16/18\n",
      "63/63 [==============================] - 0s 6ms/step - loss: 0.2152 - accuracy: 0.8516 - val_loss: 0.2524 - val_accuracy: 0.8451\n",
      "Epoch 17/18\n",
      "63/63 [==============================] - 0s 6ms/step - loss: 0.2118 - accuracy: 0.8469 - val_loss: 0.2546 - val_accuracy: 0.8496\n",
      "Epoch 18/18\n",
      "63/63 [==============================] - 0s 6ms/step - loss: 0.2116 - accuracy: 0.8524 - val_loss: 0.2569 - val_accuracy: 0.8460\n"
     ]
    }
   ],
   "source": [
    "history = model.fit(X_train, y_train, batch_size=64, epochs=18, \n",
    "                    validation_data=(X_val, y_val),\n",
    "                    callbacks=[early_stop])"
   ]
  },
  {
   "cell_type": "code",
   "execution_count": 65,
   "metadata": {},
   "outputs": [
    {
     "data": {
      "image/png": "[encoded data removed]",
      "text/plain": [
       "<Figure size 432x288 with 1 Axes>"
      ]
     },
     "metadata": {
      "needs_background": "light"
     },
     "output_type": "display_data"
    }
   ],
   "source": [
    "# Check out our train accuracy and validation accuracy over epochs.\n",
    "metrics = history.history\n",
    "plt.plot(history.epoch, metrics['loss'], metrics['val_loss'])\n",
    "plt.legend(['loss', 'val_loss'])\n",
    "plt.show()"
   ]
  },
  {
   "cell_type": "code",
   "execution_count": 67,
   "metadata": {},
   "outputs": [],
   "source": [
    "y_pred = model.predict(X_test)"
   ]
  },
  {
   "cell_type": "code",
   "execution_count": 68,
   "metadata": {},
   "outputs": [
    {
     "data": {
      "text/plain": [
       "array([[0, 0, 1],\n",
       "       [0, 0, 1],\n",
       "       [1, 0, 0],\n",
       "       ...,\n",
       "       [1, 0, 0],\n",
       "       [1, 0, 0],\n",
       "       [0, 1, 1]])"
      ]
     },
     "execution_count": 68,
     "metadata": {},
     "output_type": "execute_result"
    }
   ],
   "source": [
    "y_test"
   ]
  },
  {
   "cell_type": "code",
   "execution_count": 69,
   "metadata": {},
   "outputs": [
    {
     "data": {
      "text/plain": [
       "array([[2.42604478e-03, 8.17581778e-04, 9.99727190e-01],\n",
       "       [5.12514869e-03, 2.67184549e-03, 9.99218941e-01],\n",
       "       [8.37509871e-01, 3.65037411e-01, 2.20223889e-01],\n",
       "       ...,\n",
       "       [9.99955535e-01, 2.12566499e-02, 2.93932215e-04],\n",
       "       [9.95842159e-01, 1.23403154e-01, 9.51821357e-03],\n",
       "       [3.45198154e-01, 7.35172272e-01, 8.32077444e-01]], dtype=float32)"
      ]
     },
     "execution_count": 69,
     "metadata": {},
     "output_type": "execute_result"
    }
   ],
   "source": [
    "y_pred"
   ]
  },
  {
   "cell_type": "code",
   "execution_count": 73,
   "metadata": {},
   "outputs": [
    {
     "name": "stdout",
     "output_type": "stream",
     "text": [
      "Test set accuracy: 91%\n"
     ]
    }
   ],
   "source": [
    "THRESHOLD = 0.5\n",
    "\n",
    "y_pred = y_pred  > THRESHOLD\n",
    "y_pred = y_pred.astype(int)\n",
    "y_pred_flat = y_pred.astype(int).flatten()\n",
    "\n",
    "y_true = y_test\n",
    "y_true_flat = y_true.flatten()\n",
    "\n",
    "test_acc = sum(y_pred_flat == y_true_flat) / len(y_true_flat)\n",
    "print(f'Test set accuracy: {test_acc:.0%}')"
   ]
  },
  {
   "cell_type": "code",
   "execution_count": 74,
   "metadata": {},
   "outputs": [
    {
     "data": {
      "text/plain": [
       "array([[[299.,  18.],\n",
       "        [ 37., 217.]],\n",
       "\n",
       "       [[318.,  21.],\n",
       "        [ 25., 207.]],\n",
       "\n",
       "       [[364.,  13.],\n",
       "        [ 35., 159.]]], dtype=float32)"
      ]
     },
     "execution_count": 74,
     "metadata": {},
     "output_type": "execute_result"
    }
   ],
   "source": [
    "metric = tfa.metrics.MultiLabelConfusionMatrix(num_classes=3)\n",
    "metric.update_state(y_true, y_pred)\n",
    "result = metric.result()\n",
    "result.numpy()"
   ]
  },
  {
   "cell_type": "code",
   "execution_count": 75,
   "metadata": {},
   "outputs": [
    {
     "data": {
      "image/png": "[encoded data removed]",
      "text/plain": [
       "<Figure size 720x576 with 2 Axes>"
      ]
     },
     "metadata": {
      "needs_background": "light"
     },
     "output_type": "display_data"
    }
   ],
   "source": [
    "confusion_mtx = result[0]\n",
    "plt.figure(figsize=(10, 8))\n",
    "sns.heatmap(confusion_mtx,\n",
    "            xticklabels=[\"Biden\",\"Not Biden\"],\n",
    "            yticklabels=[\"Biden\",\"Not Biden\"],\n",
    "            annot=True, fmt='g')\n",
    "plt.xlabel('Prediction')\n",
    "plt.ylabel('Label')\n",
    "plt.show()"
   ]
  },
  {
   "cell_type": "code",
   "execution_count": 76,
   "metadata": {},
   "outputs": [
    {
     "data": {
      "image/png": "[encoded data removed]",
      "text/plain": [
       "<Figure size 720x576 with 2 Axes>"
      ]
     },
     "metadata": {
      "needs_background": "light"
     },
     "output_type": "display_data"
    }
   ],
   "source": [
    "confusion_mtx = result[1]\n",
    "plt.figure(figsize=(10, 8))\n",
    "sns.heatmap(confusion_mtx,\n",
    "            xticklabels=[\"Trump\",\"Not Trump\"],\n",
    "            yticklabels=[\"Trump\",\"Not Trump\"],\n",
    "            annot=True, fmt='g')\n",
    "plt.xlabel('Prediction')\n",
    "plt.ylabel('Label')\n",
    "plt.show()"
   ]
  },
  {
   "cell_type": "code",
   "execution_count": 77,
   "metadata": {},
   "outputs": [
    {
     "data": {
      "image/png": "[encoded data removed]",
      "text/plain": [
       "<Figure size 720x576 with 2 Axes>"
      ]
     },
     "metadata": {
      "needs_background": "light"
     },
     "output_type": "display_data"
    }
   ],
   "source": [
    "confusion_mtx = result[2]\n",
    "plt.figure(figsize=(10, 8))\n",
    "sns.heatmap(confusion_mtx,\n",
    "            xticklabels=[\"Wallace\",\"Not Wallace\"],\n",
    "            yticklabels=[\"Wallace\",\"Not Wallace\"],\n",
    "            annot=True, fmt='g')\n",
    "plt.xlabel('Prediction')\n",
    "plt.ylabel('Label')\n",
    "plt.show()"
   ]
  },
  {
   "cell_type": "markdown",
   "metadata": {},
   "source": [
    "### Transfer Learning"
   ]
  },
  {
   "cell_type": "markdown",
   "metadata": {},
   "source": [
    "Another approach we can use to get highly accurate models with small training datasets is transfer learning. We can find models that have already been trained and transfer the weights the models learnt into our own model. We took advantage of the embeddings provided by [Google VGGish Trained on Youtube 8M Dataset](https://tfhub.dev/google/vggish/1) "
   ]
  },
  {
   "cell_type": "code",
   "execution_count": 78,
   "metadata": {},
   "outputs": [],
   "source": [
    "# Load the model.\n",
    "model = hub.load('https://tfhub.dev/google/vggish/1')\n",
    "\n"
   ]
  },
  {
   "cell_type": "code",
   "execution_count": 79,
   "metadata": {},
   "outputs": [
    {
     "name": "stdout",
     "output_type": "stream",
     "text": [
      "Training set size 4564\n",
      "Validation set size 570\n",
      "Test set size 570\n"
     ]
    }
   ],
   "source": [
    "train_files = filenames[:4564]\n",
    "val_files = filenames[4564: 4564 + 570]\n",
    "test_files = filenames[-570:]\n",
    "\n",
    "print('Training set size', len(train_files))\n",
    "print('Validation set size', len(val_files))\n",
    "print('Test set size', len(test_files))"
   ]
  },
  {
   "cell_type": "code",
   "execution_count": 83,
   "metadata": {},
   "outputs": [
    {
     "data": {
      "text/plain": [
       "<tf.Tensor: shape=(3,), dtype=int32, numpy=array([0, 0, 1])>"
      ]
     },
     "execution_count": 83,
     "metadata": {},
     "output_type": "execute_result"
    }
   ],
   "source": [
    "labels[1,1:]"
   ]
  },
  {
   "cell_type": "code",
   "execution_count": 84,
   "metadata": {},
   "outputs": [],
   "source": [
    "def get_embeddings(waveform):\n",
    "  \n",
    "  # Run the model, check the output.\n",
    "  embeddings = model(waveform)\n",
    "  embeddings.shape.assert_is_compatible_with([None, 128])\n",
    "  return embeddings"
   ]
  },
  {
   "cell_type": "code",
   "execution_count": 85,
   "metadata": {},
   "outputs": [
    {
     "name": "stdout",
     "output_type": "stream",
     "text": [
      "tf.Tensor([1 0 0], shape=(3,), dtype=int32)\n",
      "(48000,)\n",
      "Label: tf.Tensor([1 0 0], shape=(3,), dtype=int32)\n",
      "Waveform shape: (48000,)\n",
      "Embeddings shape: (3, 128)\n"
     ]
    }
   ],
   "source": [
    "for waveform, label in waveform_ds.take(1):\n",
    "  label = label\n",
    "  print(label)\n",
    "  print(waveform.shape)\n",
    "  embeddings = get_embeddings(waveform)\n",
    "\n",
    "print('Label:', label)\n",
    "print('Waveform shape:', waveform.shape)\n",
    "print('Embeddings shape:', embeddings.shape)\n"
   ]
  },
  {
   "cell_type": "code",
   "execution_count": 100,
   "metadata": {},
   "outputs": [],
   "source": [
    "def get_embeddings_and_label_id(audio, label):\n",
    "  embeddings = get_embeddings(audio)\n",
    "  \n",
    "  return embeddings, label"
   ]
  },
  {
   "cell_type": "code",
   "execution_count": 101,
   "metadata": {},
   "outputs": [],
   "source": [
    "embeddings_ds = waveform_ds.map(\n",
    "  map_func=get_embeddings_and_label_id,\n",
    "  num_parallel_calls=AUTOTUNE)"
   ]
  },
  {
   "cell_type": "code",
   "execution_count": 102,
   "metadata": {},
   "outputs": [],
   "source": [
    "def preprocess_dataset(files):\n",
    "  files_ds = tf.data.Dataset.from_tensor_slices(files)\n",
    "  output_ds = files_ds.map(\n",
    "      map_func=get_waveform_and_label,\n",
    "      num_parallel_calls=AUTOTUNE)\n",
    "  output_ds = output_ds.map(\n",
    "      map_func=get_embeddings_and_label_id,\n",
    "      num_parallel_calls=AUTOTUNE)\n",
    "  return output_ds"
   ]
  },
  {
   "cell_type": "code",
   "execution_count": 103,
   "metadata": {},
   "outputs": [],
   "source": [
    "train_ds = embeddings_ds\n",
    "val_ds = preprocess_dataset(val_files)\n",
    "test_ds = preprocess_dataset(test_files)"
   ]
  },
  {
   "cell_type": "code",
   "execution_count": 104,
   "metadata": {},
   "outputs": [],
   "source": [
    "batch_size = 64\n",
    "train_ds = train_ds.batch(batch_size)\n",
    "val_ds = val_ds.batch(batch_size)"
   ]
  },
  {
   "cell_type": "code",
   "execution_count": 120,
   "metadata": {},
   "outputs": [
    {
     "name": "stdout",
     "output_type": "stream",
     "text": [
      "Model: \"my_model\"\n",
      "_________________________________________________________________\n",
      " Layer (type)                Output Shape              Param #   \n",
      "=================================================================\n",
      " flatten_6 (Flatten)         (None, 384)               0         \n",
      "                                                                 \n",
      " dense_28 (Dense)            (None, 1024)              394240    \n",
      "                                                                 \n",
      " dropout_11 (Dropout)        (None, 1024)              0         \n",
      "                                                                 \n",
      " dense_29 (Dense)            (None, 3)                 3075      \n",
      "                                                                 \n",
      "=================================================================\n",
      "Total params: 397,315\n",
      "Trainable params: 397,315\n",
      "Non-trainable params: 0\n",
      "_________________________________________________________________\n"
     ]
    }
   ],
   "source": [
    "my_classes = 3\n",
    "my_model = tf.keras.Sequential([\n",
    "    tf.keras.layers.Input(shape=(3, 128), dtype=tf.float32,\n",
    "                          name='input_embedding'),\n",
    "    \n",
    "    tf.keras.layers.Flatten(),\n",
    "    tf.keras.layers.Dense(1024, activation='relu'),\n",
    "    tf.keras.layers.Dropout(0.5),\n",
    "    tf.keras.layers.Dense(my_classes, activation='sigmoid')\n",
    "], name='my_model')\n",
    "\n",
    "my_model.summary()"
   ]
  },
  {
   "cell_type": "code",
   "execution_count": 121,
   "metadata": {},
   "outputs": [],
   "source": [
    "my_model.compile(loss=tf.keras.losses.BinaryCrossentropy(),\n",
    "                 optimizer=\"adam\",\n",
    "                 metrics=['accuracy'])\n",
    "\n",
    "callback = tf.keras.callbacks.EarlyStopping(monitor='loss',\n",
    "                                            patience=3,\n",
    "                                            restore_best_weights=True)"
   ]
  },
  {
   "cell_type": "code",
   "execution_count": 122,
   "metadata": {},
   "outputs": [
    {
     "name": "stdout",
     "output_type": "stream",
     "text": [
      "Epoch 1/20\n",
      "72/72 [==============================] - 117s 2s/step - loss: 0.5619 - accuracy: 0.5837 - val_loss: 0.4964 - val_accuracy: 0.6982\n",
      "Epoch 2/20\n",
      "72/72 [==============================] - 113s 2s/step - loss: 0.4878 - accuracy: 0.6751 - val_loss: 0.4612 - val_accuracy: 0.7140\n",
      "Epoch 3/20\n",
      "72/72 [==============================] - 113s 2s/step - loss: 0.4556 - accuracy: 0.6961 - val_loss: 0.4432 - val_accuracy: 0.7281\n",
      "Epoch 4/20\n",
      "72/72 [==============================] - 111s 2s/step - loss: 0.4340 - accuracy: 0.7174 - val_loss: 0.4359 - val_accuracy: 0.7404\n",
      "Epoch 5/20\n",
      "72/72 [==============================] - 112s 2s/step - loss: 0.4143 - accuracy: 0.7294 - val_loss: 0.4233 - val_accuracy: 0.7439\n",
      "Epoch 6/20\n",
      "72/72 [==============================] - 112s 2s/step - loss: 0.4026 - accuracy: 0.7417 - val_loss: 0.4181 - val_accuracy: 0.7474\n",
      "Epoch 7/20\n",
      "72/72 [==============================] - 112s 2s/step - loss: 0.3907 - accuracy: 0.7472 - val_loss: 0.4160 - val_accuracy: 0.7544\n",
      "Epoch 8/20\n",
      "72/72 [==============================] - 111s 2s/step - loss: 0.3800 - accuracy: 0.7583 - val_loss: 0.4086 - val_accuracy: 0.7544\n",
      "Epoch 9/20\n",
      "72/72 [==============================] - 114s 2s/step - loss: 0.3716 - accuracy: 0.7572 - val_loss: 0.4063 - val_accuracy: 0.7456\n",
      "Epoch 10/20\n",
      "72/72 [==============================] - 114s 2s/step - loss: 0.3649 - accuracy: 0.7625 - val_loss: 0.4068 - val_accuracy: 0.7561\n",
      "Epoch 11/20\n",
      "72/72 [==============================] - 113s 2s/step - loss: 0.3536 - accuracy: 0.7728 - val_loss: 0.4048 - val_accuracy: 0.7544\n",
      "Epoch 12/20\n",
      "72/72 [==============================] - 113s 2s/step - loss: 0.3482 - accuracy: 0.7767 - val_loss: 0.4032 - val_accuracy: 0.7491\n",
      "Epoch 13/20\n",
      "72/72 [==============================] - 112s 2s/step - loss: 0.3400 - accuracy: 0.7794 - val_loss: 0.4046 - val_accuracy: 0.7561\n",
      "Epoch 14/20\n",
      "72/72 [==============================] - 114s 2s/step - loss: 0.3310 - accuracy: 0.7857 - val_loss: 0.4070 - val_accuracy: 0.7509\n",
      "Epoch 15/20\n",
      "72/72 [==============================] - 111s 2s/step - loss: 0.3284 - accuracy: 0.7875 - val_loss: 0.4067 - val_accuracy: 0.7526\n",
      "Epoch 16/20\n",
      "72/72 [==============================] - 114s 2s/step - loss: 0.3221 - accuracy: 0.7923 - val_loss: 0.4068 - val_accuracy: 0.7544\n",
      "Epoch 17/20\n",
      "72/72 [==============================] - 112s 2s/step - loss: 0.3173 - accuracy: 0.7925 - val_loss: 0.4035 - val_accuracy: 0.7561\n",
      "Epoch 18/20\n",
      "72/72 [==============================] - 112s 2s/step - loss: 0.3059 - accuracy: 0.8015 - val_loss: 0.4100 - val_accuracy: 0.7474\n",
      "Epoch 19/20\n",
      "72/72 [==============================] - 111s 2s/step - loss: 0.3006 - accuracy: 0.8048 - val_loss: 0.4113 - val_accuracy: 0.7526\n",
      "Epoch 20/20\n",
      "72/72 [==============================] - 112s 2s/step - loss: 0.2937 - accuracy: 0.8070 - val_loss: 0.4259 - val_accuracy: 0.7333\n"
     ]
    }
   ],
   "source": [
    "history = my_model.fit(train_ds,\n",
    "                       epochs=20,\n",
    "                       validation_data=val_ds,\n",
    "                       callbacks=callback)"
   ]
  },
  {
   "cell_type": "code",
   "execution_count": 123,
   "metadata": {},
   "outputs": [
    {
     "data": {
      "image/png": "[encoded data removed]",
      "text/plain": [
       "<Figure size 432x288 with 1 Axes>"
      ]
     },
     "metadata": {
      "needs_background": "light"
     },
     "output_type": "display_data"
    }
   ],
   "source": [
    "metrics = history.history\n",
    "plt.plot(history.epoch, metrics['loss'], metrics['val_loss'])\n",
    "plt.legend(['loss', 'val_loss'])\n",
    "plt.show()"
   ]
  },
  {
   "cell_type": "code",
   "execution_count": 124,
   "metadata": {},
   "outputs": [],
   "source": [
    "test_audio = []\n",
    "test_labels = []\n",
    "\n",
    "for audio, label in test_ds:\n",
    "  test_audio.append(audio.numpy())\n",
    "  test_labels.append(label.numpy())\n",
    "\n",
    "test_audio = np.array(test_audio)\n",
    "test_labels = np.array(test_labels)"
   ]
  },
  {
   "cell_type": "code",
   "execution_count": 126,
   "metadata": {},
   "outputs": [
    {
     "name": "stdout",
     "output_type": "stream",
     "text": [
      "Test set accuracy: 83%\n"
     ]
    }
   ],
   "source": [
    "THRESHOLD = 0.5\n",
    "\n",
    "y_pred = my_model.predict(test_audio)\n",
    "y_pred = y_pred  > THRESHOLD\n",
    "y_pred = y_pred.astype(int)\n",
    "y_pred_flat = y_pred.astype(int).flatten()\n",
    "\n",
    "y_true = test_labels\n",
    "y_true_flat = test_labels.flatten()\n",
    "\n",
    "test_acc = sum(y_pred_flat == y_true_flat) / len(y_true_flat)\n",
    "print(f'Test set accuracy: {test_acc:.0%}')"
   ]
  },
  {
   "cell_type": "code",
   "execution_count": 127,
   "metadata": {},
   "outputs": [
    {
     "data": {
      "text/plain": [
       "array([[[249.,  77.],\n",
       "        [ 35., 209.]],\n",
       "\n",
       "       [[299.,  23.],\n",
       "        [ 69., 179.]],\n",
       "\n",
       "       [[348.,  29.],\n",
       "        [ 57., 136.]]], dtype=float32)"
      ]
     },
     "execution_count": 127,
     "metadata": {},
     "output_type": "execute_result"
    }
   ],
   "source": [
    "metric = tfa.metrics.MultiLabelConfusionMatrix(num_classes=3)\n",
    "metric.update_state(y_true, y_pred)\n",
    "result = metric.result()\n",
    "result.numpy()"
   ]
  },
  {
   "cell_type": "code",
   "execution_count": 128,
   "metadata": {},
   "outputs": [
    {
     "data": {
      "image/png": "[encoded data removed]",
      "text/plain": [
       "<Figure size 720x576 with 2 Axes>"
      ]
     },
     "metadata": {
      "needs_background": "light"
     },
     "output_type": "display_data"
    }
   ],
   "source": [
    "confusion_mtx = result[0]\n",
    "plt.figure(figsize=(10, 8))\n",
    "sns.heatmap(confusion_mtx,\n",
    "            xticklabels=[\"Biden\",\"Not Biden\"],\n",
    "            yticklabels=[\"Biden\",\"Not Biden\"],\n",
    "            annot=True, fmt='g')\n",
    "plt.xlabel('Prediction')\n",
    "plt.ylabel('Label')\n",
    "plt.show()"
   ]
  },
  {
   "cell_type": "code",
   "execution_count": 129,
   "metadata": {},
   "outputs": [
    {
     "data": {
      "image/png": "[encoded data removed]",
      "text/plain": [
       "<Figure size 720x576 with 2 Axes>"
      ]
     },
     "metadata": {
      "needs_background": "light"
     },
     "output_type": "display_data"
    }
   ],
   "source": [
    "confusion_mtx = result[1]\n",
    "plt.figure(figsize=(10, 8))\n",
    "sns.heatmap(confusion_mtx,\n",
    "            xticklabels=[\"Trump\",\"Not Trump\"],\n",
    "            yticklabels=[\"Trump\",\"Not Trump\"],\n",
    "            annot=True, fmt='g')\n",
    "plt.xlabel('Prediction')\n",
    "plt.ylabel('Label')\n",
    "plt.show()"
   ]
  },
  {
   "cell_type": "code",
   "execution_count": 130,
   "metadata": {},
   "outputs": [
    {
     "data": {
      "image/png": "[encoded data removed]",
      "text/plain": [
       "<Figure size 720x576 with 2 Axes>"
      ]
     },
     "metadata": {
      "needs_background": "light"
     },
     "output_type": "display_data"
    }
   ],
   "source": [
    "confusion_mtx = result[2]\n",
    "plt.figure(figsize=(10, 8))\n",
    "sns.heatmap(confusion_mtx,\n",
    "            xticklabels=[\"Wallace\",\"Not Wallace\"],\n",
    "            yticklabels=[\"Wallace\",\"Not Wallace\"],\n",
    "            annot=True, fmt='g')\n",
    "plt.xlabel('Prediction')\n",
    "plt.ylabel('Label')\n",
    "plt.show()"
   ]
  },
  {
   "cell_type": "markdown",
   "metadata": {},
   "source": [
    "## Thoughts"
   ]
  },
  {
   "cell_type": "markdown",
   "metadata": {},
   "source": [
    "Whilst the idea is wild and not easily implementable, the exercise represents an approach to AI innovation. It is helpful playing with [Kaggle](https://www.kaggle.com/) datasets to sharpen model building skills. The key is experimentation. Scaled experimentation! The deliverable is multiple versions of different models.\n",
    "\n",
    "To achieve this level of scale a lot of technology will need to be involved. MLOps is emerging as a field to manage scaled AI operations. "
   ]
  },
  {
   "cell_type": "code",
   "execution_count": null,
   "metadata": {},
   "outputs": [],
   "source": []
  },
  {
   "cell_type": "code",
   "execution_count": null,
   "metadata": {},
   "outputs": [],
   "source": []
  }
 ],
 "metadata": {
  "anaconda-cloud": {},
  "kernelspec": {
   "display_name": "Python 3",
   "language": "python",
   "name": "python3"
  },
  "language_info": {
   "codemirror_mode": {
    "name": "ipython",
    "version": 3
   },
   "file_extension": ".py",
   "mimetype": "text/x-python",
   "name": "python",
   "nbconvert_exporter": "python",
   "pygments_lexer": "ipython3",
   "version": "3.8.8"
  }
 },
 "nbformat": 4,
 "nbformat_minor": 1
}
